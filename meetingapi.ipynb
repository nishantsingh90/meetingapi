{
 "cells": [
  {
   "cell_type": "code",
   "execution_count": 1,
   "id": "headed-darwin",
   "metadata": {},
   "outputs": [],
   "source": [
    "from apiclient.discovery import build\n",
    "from google_auth_oauthlib.flow import InstalledAppFlow"
   ]
  },
  {
   "cell_type": "code",
   "execution_count": 2,
   "id": "historical-catalyst",
   "metadata": {},
   "outputs": [],
   "source": [
    "from apiclient.discovery import build\n",
    "from google_auth_oauthlib.flow import InstalledAppFlow"
   ]
  },
  {
   "cell_type": "code",
   "execution_count": 3,
   "id": "proud-spectrum",
   "metadata": {},
   "outputs": [],
   "source": [
    "scopes = ['https://www.googleapis.com/auth/calendar']"
   ]
  },
  {
   "cell_type": "code",
   "execution_count": 4,
   "id": "early-nursing",
   "metadata": {},
   "outputs": [],
   "source": [
    "flow = InstalledAppFlow.from_client_secrets_file(\"desktop\\cred5.json\", scopes=scopes)"
   ]
  },
  {
   "cell_type": "code",
   "execution_count": 5,
   "id": "separated-rachel",
   "metadata": {},
   "outputs": [
    {
     "name": "stdout",
     "output_type": "stream",
     "text": [
      "Please visit this URL to authorize this application: https://accounts.google.com/o/oauth2/auth?response_type=code&client_id=464578369549-4c9sr1h0jdtano03u5vk8f5k3scnqa2n.apps.googleusercontent.com&redirect_uri=urn%3Aietf%3Awg%3Aoauth%3A2.0%3Aoob&scope=https%3A%2F%2Fwww.googleapis.com%2Fauth%2Fcalendar&state=QCheiq2QczLt6UrYwLICPSphbv2XtC&prompt=consent&access_type=offline\n",
      "Enter the authorization code: 4/1AY0e-g6_zve5BWtifu5AwtdFL7kPZCBECANFWuy0KAFREqXBKbpJPAIn5mM\n"
     ]
    }
   ],
   "source": [
    "credentials = flow.run_console()"
   ]
  },
  {
   "cell_type": "code",
   "execution_count": 6,
   "id": "enormous-duplicate",
   "metadata": {},
   "outputs": [],
   "source": [
    "import pickle"
   ]
  },
  {
   "cell_type": "code",
   "execution_count": 7,
   "id": "round-consumption",
   "metadata": {},
   "outputs": [],
   "source": [
    "pickle.dump(credentials, open(\"token.pkl\", \"wb\"))"
   ]
  },
  {
   "cell_type": "code",
   "execution_count": 8,
   "id": "legal-marks",
   "metadata": {},
   "outputs": [],
   "source": [
    "credentials = pickle.load(open(\"token.pkl\", \"rb\"))"
   ]
  },
  {
   "cell_type": "code",
   "execution_count": 9,
   "id": "thermal-democracy",
   "metadata": {},
   "outputs": [],
   "source": [
    "service = build(\"calendar\", \"v3\", credentials=credentials)"
   ]
  },
  {
   "cell_type": "code",
   "execution_count": 10,
   "id": "extensive-background",
   "metadata": {},
   "outputs": [],
   "source": [
    "result = service.calendarList().list().execute()"
   ]
  },
  {
   "cell_type": "code",
   "execution_count": 11,
   "id": "valid-liberal",
   "metadata": {},
   "outputs": [
    {
     "name": "stdout",
     "output_type": "stream",
     "text": [
      "{'kind': 'calendar#calendarList', 'etag': '\"p33s9nv5mnv8us0g\"', 'nextSyncToken': 'CPib_La_0e4CEhduaXNoYW50LmRoYXJpQGdtYWlsLmNvbQ==', 'items': [{'kind': 'calendar#calendarListEntry', 'etag': '\"1406183664349000\"', 'id': 'nishant.dhari@gmail.com', 'summary': 'nishant.dhari@gmail.com', 'timeZone': 'Asia/Kolkata', 'colorId': '17', 'backgroundColor': '#9a9cff', 'foregroundColor': '#000000', 'selected': True, 'accessRole': 'owner', 'defaultReminders': [{'method': 'popup', 'minutes': 30}], 'notificationSettings': {'notifications': [{'type': 'eventCreation', 'method': 'email'}, {'type': 'eventChange', 'method': 'email'}, {'type': 'eventCancellation', 'method': 'email'}, {'type': 'eventResponse', 'method': 'email'}]}, 'primary': True, 'conferenceProperties': {'allowedConferenceSolutionTypes': ['hangoutsMeet']}}, {'kind': 'calendar#calendarListEntry', 'etag': '\"1612418523325000\"', 'id': 'addressbook#contacts@group.v.calendar.google.com', 'summary': 'Birthdays', 'description': 'Displays birthdays, anniversaries, and other event dates of people in Google Contacts.', 'timeZone': 'Asia/Kolkata', 'colorId': '13', 'backgroundColor': '#92e1c0', 'foregroundColor': '#000000', 'selected': True, 'accessRole': 'reader', 'defaultReminders': [], 'conferenceProperties': {'allowedConferenceSolutionTypes': ['hangoutsMeet']}}, {'kind': 'calendar#calendarListEntry', 'etag': '\"1612418523325000\"', 'id': 'en.indian#holiday@group.v.calendar.google.com', 'summary': 'Holidays in India', 'description': 'Holidays and Observances in India', 'timeZone': 'Asia/Kolkata', 'colorId': '8', 'backgroundColor': '#16a765', 'foregroundColor': '#000000', 'selected': True, 'accessRole': 'reader', 'defaultReminders': [], 'conferenceProperties': {'allowedConferenceSolutionTypes': ['hangoutsMeet']}}]}\n"
     ]
    }
   ],
   "source": [
    "print(result)"
   ]
  },
  {
   "cell_type": "code",
   "execution_count": 12,
   "id": "floating-capacity",
   "metadata": {},
   "outputs": [],
   "source": [
    "from datetime import datetime, timedelta"
   ]
  },
  {
   "cell_type": "code",
   "execution_count": 13,
   "id": "capable-faculty",
   "metadata": {},
   "outputs": [],
   "source": [
    "\n",
    "from uuid import uuid4\n",
    "start_time = datetime(2021, 2, 6, 19, 30, 0)\n",
    "end_time = start_time + timedelta(hours=4)\n",
    "timezone = 'Asia/Kolkata'\n",
    "\n",
    "\n",
    "\n",
    "event1 = {\n",
    "  'summary': 'Meet',\n",
    "  'location': 'Ranchi',\n",
    "  'description': 'Calender Api',\n",
    "  'start': {\n",
    "    'dateTime': start_time.strftime(\"%Y-%m-%dT%H:%M:%S\"),\n",
    "    'timeZone': timezone,\n",
    "  },\n",
    "  'end': {\n",
    "    'dateTime': end_time.strftime(\"%Y-%m-%dT%H:%M:%S\"),\n",
    "    'timeZone': timezone,\n",
    "  },\n",
    "  'reminders': {\n",
    "    'useDefault': True,\n",
    "    \n",
    "  },\n",
    "   \"conferenceData\": {\"createRequest\": {\"requestId\": f\"{uuid4().hex}\",\n",
    "                                                      \"conferenceSolutionKey\": {\"type\": \"hangoutsMeet\"}}},\n",
    "            \"conferenceDataVersion\":\"1\",\n",
    "}"
   ]
  },
  {
   "cell_type": "code",
   "execution_count": 15,
   "id": "relevant-default",
   "metadata": {},
   "outputs": [],
   "source": [
    "calendar_id = result['items'][0]['id']"
   ]
  },
  {
   "cell_type": "code",
   "execution_count": 16,
   "id": "necessary-johns",
   "metadata": {},
   "outputs": [
    {
     "data": {
      "text/plain": [
       "{'kind': 'calendar#event',\n",
       " 'etag': '\"3225004713534000\"',\n",
       " 'id': 'v1ud3asnrm4l7aci9pvnjsbct8',\n",
       " 'status': 'confirmed',\n",
       " 'htmlLink': 'https://www.google.com/calendar/event?eid=djF1ZDNhc25ybTRsN2FjaTlwdm5qc2JjdDggbmlzaGFudC5kaGFyaUBt',\n",
       " 'created': '2021-02-05T05:19:16.000Z',\n",
       " 'updated': '2021-02-05T05:19:16.767Z',\n",
       " 'summary': 'Meet',\n",
       " 'description': 'Calender Api',\n",
       " 'location': 'Ranchi',\n",
       " 'creator': {'email': 'nishant.dhari@gmail.com', 'self': True},\n",
       " 'organizer': {'email': 'nishant.dhari@gmail.com', 'self': True},\n",
       " 'start': {'dateTime': '2021-02-06T19:30:00+05:30',\n",
       "  'timeZone': 'Asia/Kolkata'},\n",
       " 'end': {'dateTime': '2021-02-06T23:30:00+05:30', 'timeZone': 'Asia/Kolkata'},\n",
       " 'iCalUID': 'v1ud3asnrm4l7aci9pvnjsbct8@google.com',\n",
       " 'sequence': 0,\n",
       " 'hangoutLink': 'https://meet.google.com/fvh-cuiu-ctr',\n",
       " 'conferenceData': {'createRequest': {'requestId': 'b6125a19fb4944ec92fc3b31724d2679',\n",
       "   'conferenceSolutionKey': {'type': 'hangoutsMeet'},\n",
       "   'status': {'statusCode': 'success'}},\n",
       "  'entryPoints': [{'entryPointType': 'video',\n",
       "    'uri': 'https://meet.google.com/fvh-cuiu-ctr',\n",
       "    'label': 'meet.google.com/fvh-cuiu-ctr'}],\n",
       "  'conferenceSolution': {'key': {'type': 'hangoutsMeet'},\n",
       "   'name': 'Google Meet',\n",
       "   'iconUri': 'https://fonts.gstatic.com/s/i/productlogos/meet_2020q4/v6/web-512dp/logo_meet_2020q4_color_2x_web_512dp.png'},\n",
       "  'conferenceId': 'fvh-cuiu-ctr',\n",
       "  'signature': 'AL9oL6WOBRypVRO8Yppc/3h+MJU8'},\n",
       " 'reminders': {'useDefault': True},\n",
       " 'eventType': 'default'}"
      ]
     },
     "execution_count": 16,
     "metadata": {},
     "output_type": "execute_result"
    }
   ],
   "source": [
    "service.events().insert(calendarId=calendar_id, body=event1,conferenceDataVersion=1).execute()"
   ]
  },
  {
   "cell_type": "code",
   "execution_count": null,
   "id": "alternative-depression",
   "metadata": {},
   "outputs": [],
   "source": []
  }
 ],
 "metadata": {
  "kernelspec": {
   "display_name": "Python 3",
   "language": "python",
   "name": "python3"
  },
  "language_info": {
   "codemirror_mode": {
    "name": "ipython",
    "version": 3
   },
   "file_extension": ".py",
   "mimetype": "text/x-python",
   "name": "python",
   "nbconvert_exporter": "python",
   "pygments_lexer": "ipython3",
   "version": "3.8.5"
  }
 },
 "nbformat": 4,
 "nbformat_minor": 5
}
